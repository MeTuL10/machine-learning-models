{
  "nbformat": 4,
  "nbformat_minor": 0,
  "metadata": {
    "colab": {
      "provenance": []
    },
    "kernelspec": {
      "name": "python3",
      "display_name": "Python 3"
    },
    "language_info": {
      "name": "python"
    }
  },
  "cells": [
    {
      "cell_type": "markdown",
      "source": [
        "NAIVE BAYES CLASSIFIER"
      ],
      "metadata": {
        "id": "gOQR_4PDPfmj"
      }
    },
    {
      "cell_type": "code",
      "execution_count": null,
      "metadata": {
        "id": "qIaCWa3uKDDk"
      },
      "outputs": [],
      "source": [
        "import pandas as pd\n",
        "import numpy as np\n",
        "import matplotlib.pyplot as plt\n",
        "from sklearn.model_selection import train_test_split\n",
        "from sklearn.naive_bayes import GaussianNB\n",
        "from sklearn import preprocessing\n",
        "from sklearn.metrics import mean_squared_error,confusion_matrix,recall_score,precision_score"
      ]
    },
    {
      "cell_type": "code",
      "source": [
        "data=pd.read_csv(\"/content/PlayTennis.csv\")\n",
        "X=data.iloc[:,:4]\n",
        "y=data.iloc[:,-1]\n",
        "print(\"the independent variables:\\n\",X)\n",
        "print(\"\\nthe dependent variable:\\n\",y)\n",
        "\n"
      ],
      "metadata": {
        "colab": {
          "base_uri": "https://localhost:8080/"
        },
        "id": "fu3BFIRkQU14",
        "outputId": "499b09bb-d6ea-49db-ac87-856864dbe1e3"
      },
      "execution_count": null,
      "outputs": [
        {
          "output_type": "stream",
          "name": "stdout",
          "text": [
            "the independent variables:\n",
            "      Outlook Temperature Humidity    Wind\n",
            "0      Sunny         Hot     High    Weak\n",
            "1      Sunny         Hot     High  Strong\n",
            "2   Overcast         Hot     High    Weak\n",
            "3       Rain        Mild     High    Weak\n",
            "4       Rain        Cool   Normal    Weak\n",
            "5       Rain        Cool   Normal  Strong\n",
            "6   Overcast        Cool   Normal  Strong\n",
            "7      Sunny        Mild     High    Weak\n",
            "8      Sunny        Cool   Normal    Weak\n",
            "9       Rain        Mild   Normal    Weak\n",
            "10     Sunny        Mild   Normal  Strong\n",
            "11  Overcast        Mild     High  Strong\n",
            "12  Overcast         Hot   Normal    Weak\n",
            "13      Rain        Mild     High  Strong\n",
            "\n",
            "the dependent variable:\n",
            " 0      No\n",
            "1      No\n",
            "2     Yes\n",
            "3     Yes\n",
            "4     Yes\n",
            "5      No\n",
            "6     Yes\n",
            "7      No\n",
            "8     Yes\n",
            "9     Yes\n",
            "10    Yes\n",
            "11    Yes\n",
            "12    Yes\n",
            "13     No\n",
            "Name: Play Tennis, dtype: object\n"
          ]
        }
      ]
    },
    {
      "cell_type": "code",
      "source": [
        "le = preprocessing.LabelEncoder()\n",
        "for i in range(4):\n",
        "  X.iloc[:,i]=le.fit_transform(X.iloc[:,i])\n",
        "y=le.fit_transform(y)"
      ],
      "metadata": {
        "colab": {
          "base_uri": "https://localhost:8080/"
        },
        "id": "4jVaqwzFWvVU",
        "outputId": "47b9753d-bc2c-4dac-dde6-3a9435c795ea"
      },
      "execution_count": null,
      "outputs": [
        {
          "output_type": "stream",
          "name": "stderr",
          "text": [
            "/usr/local/lib/python3.7/dist-packages/pandas/core/indexing.py:1951: SettingWithCopyWarning: \n",
            "A value is trying to be set on a copy of a slice from a DataFrame.\n",
            "Try using .loc[row_indexer,col_indexer] = value instead\n",
            "\n",
            "See the caveats in the documentation: https://pandas.pydata.org/pandas-docs/stable/user_guide/indexing.html#returning-a-view-versus-a-copy\n",
            "  self.obj[selected_item_labels] = value\n",
            "/usr/local/lib/python3.7/dist-packages/pandas/core/indexing.py:1773: SettingWithCopyWarning: \n",
            "A value is trying to be set on a copy of a slice from a DataFrame.\n",
            "Try using .loc[row_indexer,col_indexer] = value instead\n",
            "\n",
            "See the caveats in the documentation: https://pandas.pydata.org/pandas-docs/stable/user_guide/indexing.html#returning-a-view-versus-a-copy\n",
            "  self._setitem_single_column(ilocs[0], value, pi)\n"
          ]
        }
      ]
    },
    {
      "cell_type": "code",
      "source": [
        "xtrain, xtest, ytrain, ytest = train_test_split(X, y, test_size=0.3, random_state=0)\n",
        "print(\"training dataset:\\n\",xtrain,\"\\n\",ytrain)\n",
        "print(\"\\ntesting dataset:\\n\",xtest,\"\\n\",ytest)"
      ],
      "metadata": {
        "colab": {
          "base_uri": "https://localhost:8080/"
        },
        "id": "MbZ10eqVVfSn",
        "outputId": "af32b018-0058-4a50-e7b7-1bb8fdaa3479"
      },
      "execution_count": null,
      "outputs": [
        {
          "output_type": "stream",
          "name": "stdout",
          "text": [
            "training dataset:\n",
            "     Outlook  Temperature  Humidity  Wind\n",
            "13        1            2         0     0\n",
            "9         1            2         1     1\n",
            "1         2            1         0     0\n",
            "7         2            2         0     1\n",
            "10        2            2         1     0\n",
            "3         1            2         0     1\n",
            "0         2            1         0     1\n",
            "5         1            0         1     0\n",
            "12        0            1         1     1 \n",
            " [0 1 0 0 1 1 0 0 1]\n",
            "\n",
            "testing dataset:\n",
            "     Outlook  Temperature  Humidity  Wind\n",
            "8         2            0         1     1\n",
            "6         0            0         1     0\n",
            "4         1            0         1     1\n",
            "11        0            2         0     0\n",
            "2         0            1         0     1 \n",
            " [1 1 1 1 1]\n"
          ]
        }
      ]
    },
    {
      "cell_type": "code",
      "source": [
        "gaus= GaussianNB()\n",
        "model= gaus.fit(xtrain, ytrain)\n",
        "ypred=model.predict(xtest)\n",
        "print(\"the predicted y values: \",ypred)\n",
        "print(\"the test y values: \",ytest)\n",
        "print(\"the  root mean squared error of the dataset is: \",mean_squared_error(ytest,ypred,squared=False))\n",
        "mat=confusion_matrix(ytest,ypred)\n",
        "print(\"the confusion matrix is:\\n\",mat)"
      ],
      "metadata": {
        "colab": {
          "base_uri": "https://localhost:8080/"
        },
        "id": "bdxr9qX6V_DA",
        "outputId": "505c96ec-1499-4caf-f170-792c45ddf401"
      },
      "execution_count": null,
      "outputs": [
        {
          "output_type": "stream",
          "name": "stdout",
          "text": [
            "the predicted y values:  [0 0 0 1 1]\n",
            "the test y values:  [1 1 1 1 1]\n",
            "the  root mean squared error of the dataset is:  0.7745966692414834\n",
            "the confusion matrix is:\n",
            " [[0 0]\n",
            " [3 2]]\n"
          ]
        }
      ]
    },
    {
      "cell_type": "code",
      "source": [
        "print(\"the score for the training data set is: \",model.score(xtest,ytest))\n",
        "print(\"the recall score: \",recall_score(ytest,ypred))\n",
        "print(\"the precision score: \",precision_score(ytest,ypred))\n",
        "sensitivity = mat[1,1]/(mat[0,0]+mat[1,1])\n",
        "specificity = mat[1,0]/(mat[1,0]+mat[0,1])\n",
        "print(\"specificity: \",specificity)\n",
        "print(\"sensitivity: \",sensitivity)"
      ],
      "metadata": {
        "colab": {
          "base_uri": "https://localhost:8080/"
        },
        "id": "3Q9IHPm3aNwq",
        "outputId": "ac169407-2406-4253-9ef1-d5f7d978e307"
      },
      "execution_count": null,
      "outputs": [
        {
          "output_type": "stream",
          "name": "stdout",
          "text": [
            "the score for the training data set is:  0.4\n",
            "the recall score:  0.4\n",
            "the precision score:  1.0\n",
            "specificity:  1.0\n",
            "sensitivity:  1.0\n"
          ]
        }
      ]
    }
  ]
}
